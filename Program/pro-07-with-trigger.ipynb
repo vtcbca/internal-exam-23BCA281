{
 "cells": [
  {
   "cell_type": "markdown",
   "id": "659fe80a-8c0e-4830-ac58-8ebd0358e71d",
   "metadata": {},
   "source": [
    "### [ 7 ] Create table contact(fname,laname,contact,email,city). Perform following operation on it.\n",
    "### 1. Insert Contact 8 records\n",
    "### 2. Delete Contact¶"
   ]
  },
  {
   "cell_type": "code",
   "execution_count": 1,
   "id": "de646cc4-0213-4b3c-804e-7c7711ff3839",
   "metadata": {},
   "outputs": [],
   "source": [
    "import sqlite3 as sq"
   ]
  },
  {
   "cell_type": "markdown",
   "id": "5e2c0f8a-d4bc-41b0-8832-eae76f6a5907",
   "metadata": {},
   "source": [
    "### Connect to the py.db databse"
   ]
  },
  {
   "cell_type": "code",
   "execution_count": 2,
   "id": "470bffd3-6515-48a4-8577-c694194363fe",
   "metadata": {},
   "outputs": [],
   "source": [
    "conn=sq.connect(\"D:\\\\sqlite\\\\csv\\\\py.db\")"
   ]
  },
  {
   "cell_type": "code",
   "execution_count": 3,
   "id": "8e2d535c-6af9-4c79-9858-b28b82beded5",
   "metadata": {},
   "outputs": [],
   "source": [
    "cur=conn.cursor()"
   ]
  },
  {
   "cell_type": "markdown",
   "id": "7ef7bb8f-e062-418a-966a-5cc7e4f99ffc",
   "metadata": {},
   "source": [
    "### Create table contact"
   ]
  },
  {
   "cell_type": "code",
   "execution_count": 7,
   "id": "53346a5b-ecf7-40c2-9949-e79d4c6e3636",
   "metadata": {},
   "outputs": [
    {
     "data": {
      "text/plain": [
       "<sqlite3.Cursor at 0x20cc937c440>"
      ]
     },
     "execution_count": 7,
     "metadata": {},
     "output_type": "execute_result"
    }
   ],
   "source": [
    "cur.execute('''\n",
    "CREATE TABLE IF NOT EXISTS contact (\n",
    "    fname TEXT,\n",
    "    lname TEXT,\n",
    "    contact TEXT,\n",
    "    email TEXT,\n",
    "    city TEXT\n",
    ")\n",
    "''')"
   ]
  },
  {
   "cell_type": "markdown",
   "id": "adaeb81a-56ef-425b-8861-8ce7aff9401b",
   "metadata": {},
   "source": [
    "### Insert 8 records in the table"
   ]
  },
  {
   "cell_type": "code",
   "execution_count": 6,
   "id": "2168863f-00c8-47cf-93f4-4ce567f8ee68",
   "metadata": {},
   "outputs": [],
   "source": [
    "records = [\n",
    "    ('Om', 'Patel', '1234567890', 'om@gmail.com', 'Surat'),\n",
    "    ('Sai', 'Patel', '9876543210', 'sai@gmail.com', 'Bardoli'),\n",
    "    ('Ram', 'Shah', '4561237890', 'ram@gmail.com', 'Madhi'),\n",
    "    ('Bob', 'Brown', '7894561230', 'bob@example.com', 'Vyara'),\n",
    "    ('Charlie', 'Johnson', '1231231234', 'charlie@example.com', 'Surat'),\n",
    "    ('Diana', 'Williams', '3213213210', 'diana@example.com', 'Mahuva'),\n",
    "    ('Eve', 'Davis', '4567891230', 'eve@example.com', 'Vapi'),\n",
    "    ('Frank', 'Miller', '6543219870', 'frank@example.com', 'Navsari')\n",
    "]"
   ]
  },
  {
   "cell_type": "markdown",
   "id": "507062f3-e0b7-4462-a6df-ac9828b7c5ad",
   "metadata": {},
   "source": [
    "### Execute insert query"
   ]
  },
  {
   "cell_type": "code",
   "execution_count": 8,
   "id": "d76fb303-2893-4efa-aeb6-9a5a90c96a1f",
   "metadata": {},
   "outputs": [
    {
     "data": {
      "text/plain": [
       "<sqlite3.Cursor at 0x20cc937c440>"
      ]
     },
     "execution_count": 8,
     "metadata": {},
     "output_type": "execute_result"
    }
   ],
   "source": [
    "cur.executemany('''\n",
    "INSERT INTO contact (fname, lname, contact, email, city)\n",
    "VALUES (?, ?, ?, ?, ?)\n",
    "''', records)"
   ]
  },
  {
   "cell_type": "code",
   "execution_count": 9,
   "id": "7217dfbf-ac89-4ee6-a34f-a6c4cd8fafcc",
   "metadata": {},
   "outputs": [],
   "source": [
    "conn.commit()"
   ]
  },
  {
   "cell_type": "markdown",
   "id": "86165195-ed03-4497-9e35-eda6dfbd9e20",
   "metadata": {},
   "source": [
    "### Create trigger "
   ]
  },
  {
   "cell_type": "code",
   "execution_count": 11,
   "id": "4d86e65a-28e3-4b72-9abb-5e38ddc43362",
   "metadata": {},
   "outputs": [
    {
     "data": {
      "text/plain": [
       "<sqlite3.Cursor at 0x20cc937c440>"
      ]
     },
     "execution_count": 11,
     "metadata": {},
     "output_type": "execute_result"
    }
   ],
   "source": [
    "cur.execute('''\n",
    "CREATE TRIGGER IF NOT EXISTS delete_trigger\n",
    "BEFORE DELETE ON contact\n",
    "FOR EACH ROW\n",
    "WHEN OLD.fname = 'Ram'\n",
    "BEGIN\n",
    "    DELETE FROM contact WHERE fname = 'Ram';\n",
    "END;\n",
    "''')"
   ]
  },
  {
   "cell_type": "code",
   "execution_count": 12,
   "id": "cec844e4-50f9-44e7-b725-571dc68eec5b",
   "metadata": {},
   "outputs": [],
   "source": [
    "conn.commit()"
   ]
  },
  {
   "cell_type": "markdown",
   "id": "ab275931-a6f4-4c0b-84b6-aeb1422b6ad3",
   "metadata": {},
   "source": [
    "### Execute delete query"
   ]
  },
  {
   "cell_type": "code",
   "execution_count": 15,
   "id": "5114ac91-1f9d-4a90-9b5a-67b0d25314db",
   "metadata": {},
   "outputs": [
    {
     "data": {
      "text/plain": [
       "<sqlite3.Cursor at 0x20cc937c440>"
      ]
     },
     "execution_count": 15,
     "metadata": {},
     "output_type": "execute_result"
    }
   ],
   "source": [
    "cur.execute(\"DELETE FROM contact WHERE fname = 'Ram'\")"
   ]
  },
  {
   "cell_type": "code",
   "execution_count": 16,
   "id": "29b4a3a8-aa64-4525-8622-683031fc23be",
   "metadata": {},
   "outputs": [],
   "source": [
    "conn.commit()"
   ]
  },
  {
   "cell_type": "code",
   "execution_count": 17,
   "id": "04980abc-c75b-486d-9475-2ec294d8be13",
   "metadata": {},
   "outputs": [
    {
     "data": {
      "text/plain": [
       "<sqlite3.Cursor at 0x20cc937c440>"
      ]
     },
     "execution_count": 17,
     "metadata": {},
     "output_type": "execute_result"
    }
   ],
   "source": [
    "cur.execute('SELECT * FROM contact')"
   ]
  },
  {
   "cell_type": "markdown",
   "id": "73308f58-e483-490e-a673-03d72ca39b36",
   "metadata": {},
   "source": [
    "### Print records after delete"
   ]
  },
  {
   "cell_type": "code",
   "execution_count": 18,
   "id": "fd095e69-b17b-48d6-adc1-175bdd9a1db7",
   "metadata": {},
   "outputs": [
    {
     "name": "stdout",
     "output_type": "stream",
     "text": [
      "('Om', 'Patel', '1234567890', 'om@gmail.com', 'Surat')\n",
      "('Sai', 'Patel', '9876543210', 'sai@gmail.com', 'Bardoli')\n",
      "('Bob', 'Brown', '7894561230', 'bob@example.com', 'Vyara')\n",
      "('Charlie', 'Johnson', '1231231234', 'charlie@example.com', 'Surat')\n",
      "('Diana', 'Williams', '3213213210', 'diana@example.com', 'Mahuva')\n",
      "('Eve', 'Davis', '4567891230', 'eve@example.com', 'Vapi')\n",
      "('Frank', 'Miller', '6543219870', 'frank@example.com', 'Navsari')\n"
     ]
    }
   ],
   "source": [
    "rows = cur.fetchall()\n",
    "for row in rows:\n",
    "    print(row)"
   ]
  },
  {
   "cell_type": "code",
   "execution_count": null,
   "id": "74694359-cc63-4d64-9de8-4c651b7af8c3",
   "metadata": {},
   "outputs": [],
   "source": []
  }
 ],
 "metadata": {
  "kernelspec": {
   "display_name": "Python 3 (ipykernel)",
   "language": "python",
   "name": "python3"
  },
  "language_info": {
   "codemirror_mode": {
    "name": "ipython",
    "version": 3
   },
   "file_extension": ".py",
   "mimetype": "text/x-python",
   "name": "python",
   "nbconvert_exporter": "python",
   "pygments_lexer": "ipython3",
   "version": "3.12.3"
  }
 },
 "nbformat": 4,
 "nbformat_minor": 5
}
