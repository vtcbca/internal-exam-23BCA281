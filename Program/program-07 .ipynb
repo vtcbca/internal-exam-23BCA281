{
 "cells": [
  {
   "cell_type": "markdown",
   "id": "1da2830a-4cfa-45cd-8e3b-5b0d910abc19",
   "metadata": {},
   "source": [
    "### [ 7 ] Create table contact(fname,laname,contact,email,city). Perform following operation on it.\n",
    "### 1. Insert Contact 8 records\n",
    "### 2. Delete Contact\n",
    "   "
   ]
  },
  {
   "cell_type": "code",
   "execution_count": 94,
   "id": "00717db1-843a-4a46-b030-5f6cbfc8703e",
   "metadata": {},
   "outputs": [],
   "source": [
    "import sqlite3 as sq"
   ]
  },
  {
   "cell_type": "markdown",
   "id": "66dcba29-76ea-49ef-b5b7-34e1e04bf2df",
   "metadata": {},
   "source": [
    "#### connect to the python.db databse"
   ]
  },
  {
   "cell_type": "code",
   "execution_count": 95,
   "id": "38148d13-1537-4877-bb13-17624a64f43e",
   "metadata": {},
   "outputs": [],
   "source": [
    "conn=sq.connect(\"D:\\\\sqlite\\\\csv\\\\python01.db\")"
   ]
  },
  {
   "cell_type": "code",
   "execution_count": 96,
   "id": "f8a9b921-a560-44cc-9c47-6b43e9832214",
   "metadata": {},
   "outputs": [],
   "source": [
    "cur=conn.cursor()"
   ]
  },
  {
   "cell_type": "markdown",
   "id": "6d783109-6d42-4680-937f-709ddd34bd5f",
   "metadata": {},
   "source": [
    "### Create table contact01"
   ]
  },
  {
   "cell_type": "code",
   "execution_count": 97,
   "id": "81863be7-c258-4494-953c-7f87c435b324",
   "metadata": {},
   "outputs": [
    {
     "data": {
      "text/plain": [
       "<sqlite3.Cursor at 0x1f092a78e40>"
      ]
     },
     "execution_count": 97,
     "metadata": {},
     "output_type": "execute_result"
    }
   ],
   "source": [
    "cur.execute('''\n",
    "CREATE TABLE IF NOT EXISTS contact (\n",
    "    fname TEXT,\n",
    "    lname TEXT,\n",
    "    contact TEXT,\n",
    "    email TEXT,\n",
    "    city TEXT\n",
    ")\n",
    "''')\n"
   ]
  },
  {
   "cell_type": "code",
   "execution_count": 98,
   "id": "6fae2aab-b1c2-412a-acac-3dc8bb604471",
   "metadata": {},
   "outputs": [],
   "source": [
    "conn.commit()"
   ]
  },
  {
   "cell_type": "markdown",
   "id": "e1e9538d-26aa-4df0-879f-f5ed3ee53fb3",
   "metadata": {},
   "source": [
    "### Insert 8 records in the table"
   ]
  },
  {
   "cell_type": "code",
   "execution_count": 99,
   "id": "98012122-fa69-432f-bab5-081abfa59d6a",
   "metadata": {},
   "outputs": [],
   "source": [
    "records = [\n",
    "    ('Om', 'Patel', '1234567890', 'om@gmail.com', 'Surat'),\n",
    "    ('Sai', 'Patel', '9876543210', 'sai@gmail.com', 'Bardoli'),\n",
    "    ('Ram', 'Shah', '4561237890', 'ram@gmail.com', 'Madhi'),\n",
    "    ('Bob', 'Brown', '7894561230', 'bob@example.com', 'Vyara'),\n",
    "    ('Charlie', 'Johnson', '1231231234', 'charlie@example.com', 'Surat'),\n",
    "    ('Diana', 'Williams', '3213213210', 'diana@example.com', 'Mahuva'),\n",
    "    ('Eve', 'Davis', '4567891230', 'eve@example.com', 'Vapi'),\n",
    "    ('Frank', 'Miller', '6543219870', 'frank@example.com', 'Navsari')\n",
    "]"
   ]
  },
  {
   "cell_type": "markdown",
   "id": "510a2158-3e7e-491c-92d6-4909d1684b47",
   "metadata": {},
   "source": [
    "### Execute insert query"
   ]
  },
  {
   "cell_type": "code",
   "execution_count": 100,
   "id": "479b1ca0-6924-4df8-a98f-1f4feab58a4c",
   "metadata": {},
   "outputs": [
    {
     "data": {
      "text/plain": [
       "<sqlite3.Cursor at 0x1f092a78e40>"
      ]
     },
     "execution_count": 100,
     "metadata": {},
     "output_type": "execute_result"
    }
   ],
   "source": [
    "cur.executemany('''\n",
    "INSERT INTO contact (fname, lname, contact, email, city)\n",
    "VALUES (?, ?, ?, ?, ?)\n",
    "''', records)"
   ]
  },
  {
   "cell_type": "code",
   "execution_count": 101,
   "id": "923d7ab6-ee81-47bb-8524-acd1b738dd30",
   "metadata": {},
   "outputs": [],
   "source": [
    "conn.commit()"
   ]
  },
  {
   "cell_type": "markdown",
   "id": "960e4442-3b03-4326-aaec-36ca7693d3a2",
   "metadata": {},
   "source": [
    "### Execute delete query"
   ]
  },
  {
   "cell_type": "code",
   "execution_count": 102,
   "id": "59a28bc6-4476-4781-b470-376a70d638f0",
   "metadata": {},
   "outputs": [
    {
     "data": {
      "text/plain": [
       "<sqlite3.Cursor at 0x1f092a78e40>"
      ]
     },
     "execution_count": 102,
     "metadata": {},
     "output_type": "execute_result"
    }
   ],
   "source": [
    "cur.execute('''\n",
    "DELETE FROM contact WHERE fname = ?\n",
    "''', ('Ram',))"
   ]
  },
  {
   "cell_type": "code",
   "execution_count": 103,
   "id": "14281e22-3168-43bc-b7ca-85a1cecd4167",
   "metadata": {},
   "outputs": [],
   "source": [
    "conn.commit()"
   ]
  },
  {
   "cell_type": "code",
   "execution_count": 104,
   "id": "792ae5b7-146a-4c17-953b-27c0d16e6885",
   "metadata": {},
   "outputs": [
    {
     "data": {
      "text/plain": [
       "<sqlite3.Cursor at 0x1f092a78e40>"
      ]
     },
     "execution_count": 104,
     "metadata": {},
     "output_type": "execute_result"
    }
   ],
   "source": [
    "cur.execute('SELECT * FROM contact')"
   ]
  },
  {
   "cell_type": "markdown",
   "id": "8041c367-beb0-441a-b432-60fb311161f2",
   "metadata": {},
   "source": [
    "### Print records after delete"
   ]
  },
  {
   "cell_type": "code",
   "execution_count": 105,
   "id": "cee13f90-3d17-4ec6-b757-28625c88742d",
   "metadata": {},
   "outputs": [
    {
     "name": "stdout",
     "output_type": "stream",
     "text": [
      "('Om', 'Patel', '1234567890', 'om@gmail.com', 'Surat')\n",
      "('Sai', 'Patel', '9876543210', 'sai@gmail.com', 'Bardoli')\n",
      "('Bob', 'Brown', '7894561230', 'bob@example.com', 'Vyara')\n",
      "('Charlie', 'Johnson', '1231231234', 'charlie@example.com', 'Surat')\n",
      "('Diana', 'Williams', '3213213210', 'diana@example.com', 'Mahuva')\n",
      "('Eve', 'Davis', '4567891230', 'eve@example.com', 'Vapi')\n",
      "('Frank', 'Miller', '6543219870', 'frank@example.com', 'Navsari')\n"
     ]
    }
   ],
   "source": [
    "rows = cur.fetchall()\n",
    "for row in rows:\n",
    "    print(row)"
   ]
  },
  {
   "cell_type": "code",
   "execution_count": 106,
   "id": "81b9845d-9f61-4c4e-aa44-5d8bbda82f16",
   "metadata": {},
   "outputs": [],
   "source": [
    "conn.close()"
   ]
  },
  {
   "cell_type": "code",
   "execution_count": null,
   "id": "9fa11afe-d311-4573-96c8-80596f57003b",
   "metadata": {},
   "outputs": [],
   "source": []
  }
 ],
 "metadata": {
  "kernelspec": {
   "display_name": "Python 3 (ipykernel)",
   "language": "python",
   "name": "python3"
  },
  "language_info": {
   "codemirror_mode": {
    "name": "ipython",
    "version": 3
   },
   "file_extension": ".py",
   "mimetype": "text/x-python",
   "name": "python",
   "nbconvert_exporter": "python",
   "pygments_lexer": "ipython3",
   "version": "3.12.3"
  }
 },
 "nbformat": 4,
 "nbformat_minor": 5
}
